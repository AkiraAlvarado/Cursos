{
 "cells": [
  {
   "cell_type": "markdown",
   "id": "95c4a250",
   "metadata": {},
   "source": [
    "## Alumno: Diego AKira Alvarado Arroyo"
   ]
  },
  {
   "cell_type": "markdown",
   "id": "b08bfad1",
   "metadata": {},
   "source": [
    "## Usando Mnist"
   ]
  },
  {
   "cell_type": "code",
   "execution_count": 1,
   "id": "f1d26afc",
   "metadata": {},
   "outputs": [],
   "source": [
    "# Aqui importamos todo lo que usaremos\n",
    "import tensorflow as tf\n",
    "from tensorflow.keras.datasets import mnist\n",
    "from tensorflow.keras.preprocessing.image import ImageDataGenerator\n",
    "from tensorflow.keras.applications import VGG16\n",
    "from tensorflow.keras import layers, models, optimizers\n",
    "import matplotlib.pyplot as plt"
   ]
  },
  {
   "cell_type": "code",
   "execution_count": 2,
   "id": "01bfbc4f",
   "metadata": {},
   "outputs": [],
   "source": [
    "# Cargando el conjunto de datos MNIST\n",
    "(x_train, y_train), (x_test, y_test) = mnist.load_data()"
   ]
  },
  {
   "cell_type": "code",
   "execution_count": 3,
   "id": "569853ab",
   "metadata": {},
   "outputs": [],
   "source": [
    "# Convertir imágenes de escala de grises a RGB\n",
    "x_train = tf.image.grayscale_to_rgb(tf.expand_dims(x_train, axis=-1))\n",
    "x_test = tf.image.grayscale_to_rgb(tf.expand_dims(x_test, axis=-1))"
   ]
  },
  {
   "cell_type": "code",
   "execution_count": 4,
   "id": "194020cb",
   "metadata": {},
   "outputs": [],
   "source": [
    "# Redimensionar imágenes a 48x48 píxeles\n",
    "x_train = tf.image.resize(x_train, (48, 48))\n",
    "x_test = tf.image.resize(x_test, (48, 48))"
   ]
  },
  {
   "cell_type": "code",
   "execution_count": 5,
   "id": "39de077b",
   "metadata": {},
   "outputs": [],
   "source": [
    "# Normalizar valores de píxeles (escala de 0 a 1)\n",
    "x_train = x_train / 255.0\n",
    "x_test = x_test / 255.0"
   ]
  },
  {
   "cell_type": "code",
   "execution_count": 6,
   "id": "bd247315",
   "metadata": {},
   "outputs": [],
   "source": [
    "# Convertir etiquetas \n",
    "y_train = tf.keras.utils.to_categorical(y_train, 10)\n",
    "y_test = tf.keras.utils.to_categorical(y_test, 10)"
   ]
  },
  {
   "cell_type": "code",
   "execution_count": 7,
   "id": "ff70d9ae",
   "metadata": {},
   "outputs": [
    {
     "name": "stdout",
     "output_type": "stream",
     "text": [
      "Downloading data from https://storage.googleapis.com/tensorflow/keras-applications/vgg16/vgg16_weights_tf_dim_ordering_tf_kernels_notop.h5\n",
      "\u001b[1m58889256/58889256\u001b[0m \u001b[32m━━━━━━━━━━━━━━━━━━━━\u001b[0m\u001b[37m\u001b[0m \u001b[1m5s\u001b[0m 0us/step\n"
     ]
    }
   ],
   "source": [
    "# Construyendo el modelo\n",
    "vgg_base = VGG16(weights='imagenet', include_top=False, input_shape=(48, 48, 3))"
   ]
  },
  {
   "cell_type": "code",
   "execution_count": 8,
   "id": "351afe81",
   "metadata": {},
   "outputs": [],
   "source": [
    "# Definir la arquitectura del modelo\n",
    "model = models.Sequential()\n",
    "model.add(vgg_base)\n",
    "model.add(layers.Flatten())\n",
    "model.add(layers.Dense(256, activation='relu'))\n",
    "model.add(layers.Dropout(0.5))\n",
    "model.add(layers.Dense(10, activation='softmax'))"
   ]
  },
  {
   "cell_type": "code",
   "execution_count": 9,
   "id": "a1e5d039",
   "metadata": {},
   "outputs": [],
   "source": [
    "# Congelar la base convolucional (VGG16)\n",
    "vgg_base.trainable = False"
   ]
  },
  {
   "cell_type": "code",
   "execution_count": 10,
   "id": "aae3badf",
   "metadata": {},
   "outputs": [],
   "source": [
    "# Compilando el modelo\n",
    "model.compile(optimizer=optimizers.Adam(),\n",
    "              loss='categorical_crossentropy',\n",
    "              metrics=['accuracy'])"
   ]
  },
  {
   "cell_type": "code",
   "execution_count": 11,
   "id": "1af01168",
   "metadata": {},
   "outputs": [
    {
     "name": "stdout",
     "output_type": "stream",
     "text": [
      "Epoch 1/10\n",
      "\u001b[1m938/938\u001b[0m \u001b[32m━━━━━━━━━━━━━━━━━━━━\u001b[0m\u001b[37m\u001b[0m \u001b[1m241s\u001b[0m 256ms/step - accuracy: 0.7702 - loss: 0.7419 - val_accuracy: 0.9543 - val_loss: 0.1545\n",
      "Epoch 2/10\n",
      "\u001b[1m938/938\u001b[0m \u001b[32m━━━━━━━━━━━━━━━━━━━━\u001b[0m\u001b[37m\u001b[0m \u001b[1m240s\u001b[0m 256ms/step - accuracy: 0.9448 - loss: 0.1846 - val_accuracy: 0.9657 - val_loss: 0.1125\n",
      "Epoch 3/10\n",
      "\u001b[1m938/938\u001b[0m \u001b[32m━━━━━━━━━━━━━━━━━━━━\u001b[0m\u001b[37m\u001b[0m \u001b[1m230s\u001b[0m 245ms/step - accuracy: 0.9555 - loss: 0.1409 - val_accuracy: 0.9670 - val_loss: 0.0993\n",
      "Epoch 4/10\n",
      "\u001b[1m938/938\u001b[0m \u001b[32m━━━━━━━━━━━━━━━━━━━━\u001b[0m\u001b[37m\u001b[0m \u001b[1m235s\u001b[0m 250ms/step - accuracy: 0.9607 - loss: 0.1219 - val_accuracy: 0.9728 - val_loss: 0.0891\n",
      "Epoch 5/10\n",
      "\u001b[1m938/938\u001b[0m \u001b[32m━━━━━━━━━━━━━━━━━━━━\u001b[0m\u001b[37m\u001b[0m \u001b[1m243s\u001b[0m 259ms/step - accuracy: 0.9640 - loss: 0.1103 - val_accuracy: 0.9706 - val_loss: 0.0890\n",
      "Epoch 6/10\n",
      "\u001b[1m938/938\u001b[0m \u001b[32m━━━━━━━━━━━━━━━━━━━━\u001b[0m\u001b[37m\u001b[0m \u001b[1m239s\u001b[0m 254ms/step - accuracy: 0.9686 - loss: 0.0997 - val_accuracy: 0.9740 - val_loss: 0.0820\n",
      "Epoch 7/10\n",
      "\u001b[1m938/938\u001b[0m \u001b[32m━━━━━━━━━━━━━━━━━━━━\u001b[0m\u001b[37m\u001b[0m \u001b[1m236s\u001b[0m 252ms/step - accuracy: 0.9683 - loss: 0.0932 - val_accuracy: 0.9699 - val_loss: 0.0897\n",
      "Epoch 8/10\n",
      "\u001b[1m938/938\u001b[0m \u001b[32m━━━━━━━━━━━━━━━━━━━━\u001b[0m\u001b[37m\u001b[0m \u001b[1m238s\u001b[0m 254ms/step - accuracy: 0.9715 - loss: 0.0879 - val_accuracy: 0.9760 - val_loss: 0.0733\n",
      "Epoch 9/10\n",
      "\u001b[1m938/938\u001b[0m \u001b[32m━━━━━━━━━━━━━━━━━━━━\u001b[0m\u001b[37m\u001b[0m \u001b[1m235s\u001b[0m 250ms/step - accuracy: 0.9721 - loss: 0.0839 - val_accuracy: 0.9775 - val_loss: 0.0686\n",
      "Epoch 10/10\n",
      "\u001b[1m938/938\u001b[0m \u001b[32m━━━━━━━━━━━━━━━━━━━━\u001b[0m\u001b[37m\u001b[0m \u001b[1m238s\u001b[0m 253ms/step - accuracy: 0.9730 - loss: 0.0818 - val_accuracy: 0.9782 - val_loss: 0.0688\n"
     ]
    }
   ],
   "source": [
    "# Entrenando el Modelo\n",
    "history = model.fit(x_train, y_train, epochs=10, batch_size=64, validation_data=(x_test, y_test))"
   ]
  },
  {
   "cell_type": "code",
   "execution_count": 13,
   "id": "41b628eb",
   "metadata": {},
   "outputs": [
    {
     "data": {
      "image/png": "[encoded data removed]",
      "text/plain": [
       "<Figure size 640x480 with 1 Axes>"
      ]
     },
     "metadata": {},
     "output_type": "display_data"
    }
   ],
   "source": [
    "# Graficar el historial de entrenamiento\n",
    "plt.plot(history.history['accuracy'], label='accuracy')\n",
    "plt.plot(history.history['val_accuracy'], label='val_accuracy')\n",
    "plt.xlabel('Epoch')\n",
    "plt.ylabel('Accuracy')\n",
    "plt.ylim([0.5, 1])\n",
    "plt.legend(loc='lower right')\n",
    "plt.show()"
   ]
  },
  {
   "cell_type": "code",
   "execution_count": null,
   "id": "e8027203",
   "metadata": {},
   "outputs": [],
   "source": []
  }
 ],
 "metadata": {
  "kernelspec": {
   "display_name": "Python 3 (ipykernel)",
   "language": "python",
   "name": "python3"
  },
  "language_info": {
   "codemirror_mode": {
    "name": "ipython",
    "version": 3
   },
   "file_extension": ".py",
   "mimetype": "text/x-python",
   "name": "python",
   "nbconvert_exporter": "python",
   "pygments_lexer": "ipython3",
   "version": "3.10.9"
  }
 },
 "nbformat": 4,
 "nbformat_minor": 5
}
