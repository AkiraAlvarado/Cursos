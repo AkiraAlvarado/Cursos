{
 "cells": [
  {
   "cell_type": "markdown",
   "id": "10e3a13a",
   "metadata": {},
   "source": [
    "## Alumno: Diego Akira Alvarado Arroyo"
   ]
  },
  {
   "cell_type": "markdown",
   "id": "af8d0b58",
   "metadata": {},
   "source": [
    "### Usando Fashion_mnist"
   ]
  },
  {
   "cell_type": "code",
   "execution_count": 1,
   "id": "8d6dd250",
   "metadata": {},
   "outputs": [],
   "source": [
    "# Aqui importamos todo lo que usaremos\n",
    "import tensorflow as tf\n",
    "from tensorflow.keras.datasets import fashion_mnist\n",
    "from tensorflow.keras.preprocessing.image import ImageDataGenerator\n",
    "from tensorflow.keras.applications import VGG16\n",
    "from tensorflow.keras import layers, models, optimizers\n",
    "import matplotlib.pyplot as plt"
   ]
  },
  {
   "cell_type": "code",
   "execution_count": 2,
   "id": "bc08aa65",
   "metadata": {},
   "outputs": [
    {
     "name": "stdout",
     "output_type": "stream",
     "text": [
      "Downloading data from https://storage.googleapis.com/tensorflow/tf-keras-datasets/train-labels-idx1-ubyte.gz\n",
      "\u001b[1m29515/29515\u001b[0m \u001b[32m━━━━━━━━━━━━━━━━━━━━\u001b[0m\u001b[37m\u001b[0m \u001b[1m0s\u001b[0m 2us/step\n",
      "Downloading data from https://storage.googleapis.com/tensorflow/tf-keras-datasets/train-images-idx3-ubyte.gz\n",
      "\u001b[1m26421880/26421880\u001b[0m \u001b[32m━━━━━━━━━━━━━━━━━━━━\u001b[0m\u001b[37m\u001b[0m \u001b[1m3s\u001b[0m 0us/step\n",
      "Downloading data from https://storage.googleapis.com/tensorflow/tf-keras-datasets/t10k-labels-idx1-ubyte.gz\n",
      "\u001b[1m5148/5148\u001b[0m \u001b[32m━━━━━━━━━━━━━━━━━━━━\u001b[0m\u001b[37m\u001b[0m \u001b[1m0s\u001b[0m 0us/step\n",
      "Downloading data from https://storage.googleapis.com/tensorflow/tf-keras-datasets/t10k-images-idx3-ubyte.gz\n",
      "\u001b[1m4422102/4422102\u001b[0m \u001b[32m━━━━━━━━━━━━━━━━━━━━\u001b[0m\u001b[37m\u001b[0m \u001b[1m1s\u001b[0m 0us/step\n"
     ]
    }
   ],
   "source": [
    "# Cargando el conjunto de datos FASHION_MNIST\n",
    "(x_train, y_train), (x_test, y_test) = fashion_mnist.load_data()\n"
   ]
  },
  {
   "cell_type": "code",
   "execution_count": 3,
   "id": "026e2252",
   "metadata": {},
   "outputs": [],
   "source": [
    "# Preprocesando datos\n",
    "x_train = tf.image.grayscale_to_rgb(tf.expand_dims(x_train, axis=-1))\n",
    "x_test = tf.image.grayscale_to_rgb(tf.expand_dims(x_test, axis=-1))"
   ]
  },
  {
   "cell_type": "code",
   "execution_count": 4,
   "id": "4f6d44af",
   "metadata": {},
   "outputs": [],
   "source": [
    "# Redimensionar imágenes a 48x48 píxeles\n",
    "x_train = tf.image.resize(x_train, (48, 48))\n",
    "x_test = tf.image.resize(x_test, (48, 48))"
   ]
  },
  {
   "cell_type": "code",
   "execution_count": 5,
   "id": "e6a5e4cb",
   "metadata": {},
   "outputs": [],
   "source": [
    "# Normalizar valores de píxeles (escala de 0 a 1)\n",
    "x_train = x_train / 255.0\n",
    "x_test = x_test / 255.0"
   ]
  },
  {
   "cell_type": "code",
   "execution_count": 6,
   "id": "da8d755e",
   "metadata": {},
   "outputs": [],
   "source": [
    "# Convertir etiquetas \n",
    "y_train = tf.keras.utils.to_categorical(y_train, 10)\n",
    "y_test = tf.keras.utils.to_categorical(y_test, 10)"
   ]
  },
  {
   "cell_type": "code",
   "execution_count": 7,
   "id": "687a5d3d",
   "metadata": {},
   "outputs": [],
   "source": [
    "# Definir VGG16 como base convolucional, cargando pesos preentrenados en 'imagenet'\n",
    "vgg_base = VGG16(weights='imagenet', include_top=False, input_shape=(48, 48, 3))\n",
    "# Definir el modelo secuencial\n",
    "model = models.Sequential()\n",
    "model.add(vgg_base)\n",
    "model.add(layers.Flatten())\n",
    "model.add(layers.Dense(256, activation='relu'))\n",
    "model.add(layers.Dropout(0.5))\n",
    "model.add(layers.Dense(10, activation='softmax'))\n"
   ]
  },
  {
   "cell_type": "code",
   "execution_count": 8,
   "id": "e7d54856",
   "metadata": {},
   "outputs": [],
   "source": [
    "# Congelar la base convolucional (VGG16)\n",
    "vgg_base.trainable = False"
   ]
  },
  {
   "cell_type": "code",
   "execution_count": 9,
   "id": "2c030b72",
   "metadata": {},
   "outputs": [],
   "source": [
    "# Compilando el modelo\n",
    "model.compile(optimizer=optimizers.Adam(),\n",
    "              loss='categorical_crossentropy',\n",
    "              metrics=['accuracy'])"
   ]
  },
  {
   "cell_type": "code",
   "execution_count": 10,
   "id": "f9f202b8",
   "metadata": {},
   "outputs": [
    {
     "name": "stdout",
     "output_type": "stream",
     "text": [
      "Epoch 1/10\n",
      "\u001b[1m938/938\u001b[0m \u001b[32m━━━━━━━━━━━━━━━━━━━━\u001b[0m\u001b[37m\u001b[0m \u001b[1m242s\u001b[0m 257ms/step - accuracy: 0.7225 - loss: 0.8075 - val_accuracy: 0.8440 - val_loss: 0.4292\n",
      "Epoch 2/10\n",
      "\u001b[1m938/938\u001b[0m \u001b[32m━━━━━━━━━━━━━━━━━━━━\u001b[0m\u001b[37m\u001b[0m \u001b[1m243s\u001b[0m 259ms/step - accuracy: 0.8380 - loss: 0.4455 - val_accuracy: 0.8567 - val_loss: 0.3945\n",
      "Epoch 3/10\n",
      "\u001b[1m938/938\u001b[0m \u001b[32m━━━━━━━━━━━━━━━━━━━━\u001b[0m\u001b[37m\u001b[0m \u001b[1m227s\u001b[0m 242ms/step - accuracy: 0.8565 - loss: 0.4017 - val_accuracy: 0.8611 - val_loss: 0.3815\n",
      "Epoch 4/10\n",
      "\u001b[1m938/938\u001b[0m \u001b[32m━━━━━━━━━━━━━━━━━━━━\u001b[0m\u001b[37m\u001b[0m \u001b[1m236s\u001b[0m 251ms/step - accuracy: 0.8622 - loss: 0.3746 - val_accuracy: 0.8663 - val_loss: 0.3653\n",
      "Epoch 5/10\n",
      "\u001b[1m938/938\u001b[0m \u001b[32m━━━━━━━━━━━━━━━━━━━━\u001b[0m\u001b[37m\u001b[0m \u001b[1m238s\u001b[0m 254ms/step - accuracy: 0.8651 - loss: 0.3666 - val_accuracy: 0.8700 - val_loss: 0.3635\n",
      "Epoch 6/10\n",
      "\u001b[1m938/938\u001b[0m \u001b[32m━━━━━━━━━━━━━━━━━━━━\u001b[0m\u001b[37m\u001b[0m \u001b[1m236s\u001b[0m 251ms/step - accuracy: 0.8726 - loss: 0.3486 - val_accuracy: 0.8720 - val_loss: 0.3618\n",
      "Epoch 7/10\n",
      "\u001b[1m938/938\u001b[0m \u001b[32m━━━━━━━━━━━━━━━━━━━━\u001b[0m\u001b[37m\u001b[0m \u001b[1m240s\u001b[0m 256ms/step - accuracy: 0.8760 - loss: 0.3401 - val_accuracy: 0.8753 - val_loss: 0.3449\n",
      "Epoch 8/10\n",
      "\u001b[1m938/938\u001b[0m \u001b[32m━━━━━━━━━━━━━━━━━━━━\u001b[0m\u001b[37m\u001b[0m \u001b[1m231s\u001b[0m 247ms/step - accuracy: 0.8765 - loss: 0.3345 - val_accuracy: 0.8742 - val_loss: 0.3528\n",
      "Epoch 9/10\n",
      "\u001b[1m938/938\u001b[0m \u001b[32m━━━━━━━━━━━━━━━━━━━━\u001b[0m\u001b[37m\u001b[0m \u001b[1m229s\u001b[0m 245ms/step - accuracy: 0.8793 - loss: 0.3257 - val_accuracy: 0.8800 - val_loss: 0.3407\n",
      "Epoch 10/10\n",
      "\u001b[1m938/938\u001b[0m \u001b[32m━━━━━━━━━━━━━━━━━━━━\u001b[0m\u001b[37m\u001b[0m \u001b[1m230s\u001b[0m 245ms/step - accuracy: 0.8825 - loss: 0.3199 - val_accuracy: 0.8780 - val_loss: 0.3433\n"
     ]
    }
   ],
   "source": [
    "# Entrenando el modelo\n",
    "history = model.fit(x_train, y_train, epochs=10, batch_size=64, validation_data=(x_test, y_test))"
   ]
  },
  {
   "cell_type": "code",
   "execution_count": 11,
   "id": "5c58b68c",
   "metadata": {},
   "outputs": [
    {
     "data": {
      "image/png": "[encoded data removed]",
      "text/plain": [
       "<Figure size 640x480 with 1 Axes>"
      ]
     },
     "metadata": {},
     "output_type": "display_data"
    }
   ],
   "source": [
    "# Graficar el historial de entrenamiento\n",
    "plt.plot(history.history['accuracy'], label='accuracy')\n",
    "plt.plot(history.history['val_accuracy'], label='val_accuracy')\n",
    "plt.xlabel('Epoch')\n",
    "plt.ylabel('Accuracy')\n",
    "plt.ylim([0.5, 1])\n",
    "plt.legend(loc='lower right')\n",
    "plt.show()"
   ]
  },
  {
   "cell_type": "code",
   "execution_count": null,
   "id": "79f5dcc3",
   "metadata": {},
   "outputs": [],
   "source": []
  }
 ],
 "metadata": {
  "kernelspec": {
   "display_name": "Python 3 (ipykernel)",
   "language": "python",
   "name": "python3"
  },
  "language_info": {
   "codemirror_mode": {
    "name": "ipython",
    "version": 3
   },
   "file_extension": ".py",
   "mimetype": "text/x-python",
   "name": "python",
   "nbconvert_exporter": "python",
   "pygments_lexer": "ipython3",
   "version": "3.10.9"
  }
 },
 "nbformat": 4,
 "nbformat_minor": 5
}
